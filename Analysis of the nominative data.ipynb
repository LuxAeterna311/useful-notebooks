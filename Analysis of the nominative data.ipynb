{
 "cells": [
  {
   "cell_type": "code",
   "execution_count": 1,
   "metadata": {},
   "outputs": [],
   "source": [
    "import pandas as pd\n",
    "import numpy as np\n",
    "from scipy import stats\n",
    "import matplotlib.pyplot as plt\n",
    "import seaborn as sns\n",
    "\n",
    "%matplotlib inline\n",
    "plt.rcParams[\"figure.figsize\"] = (10, 10)\n",
    "plt.style.use(\"ggplot\")"
   ]
  },
  {
   "cell_type": "markdown",
   "metadata": {},
   "source": [
    "### 1) Коэффициенты ассоциации и контингенции для таблиц 2x2"
   ]
  },
  {
   "cell_type": "code",
   "execution_count": 35,
   "metadata": {},
   "outputs": [],
   "source": [
    "def contingency2x2_coefficients(data, return_coefficients = False):\n",
    "    \n",
    "    if isinstance(groupped, pd.core.frame.DataFrame):\n",
    "        data = data.to_numpy()\n",
    "        \n",
    "    K_a = (data[0, 0] * data[1, 1] - data[0, 1] * data[1, 0]) / (data[0, 0] * data[1, 1] + data[0, 1] * data[1, 0])\n",
    "    K_k = (data[0, 0] * data[1, 1] - data[0, 1] * data[1, 0]) / ((data[0, 0] + data[0, 1]) * (data[0, 1] + data[1, 1]) * (data[0, 0] + data[1, 0]) * (data[1, 0] + data[1, 1])) ** (0.5)\n",
    "    \n",
    "    print(\"Коэффициент ассоциации: \", K_a)\n",
    "    print(\"Коэффициент контингенции: \", K_k)\n",
    "    \n",
    "    if (K_a >= 0.5) or (K_k >= 0.3):\n",
    "        print(\"Связь достаточно сильная между двумя признаками\")\n",
    "    else:\n",
    "        print(\"Связь слабая между двумя признаками\")\n",
    "        \n",
    "    if return_coefficients:\n",
    "        return (K_a, K_k)"
   ]
  },
  {
   "cell_type": "code",
   "execution_count": 33,
   "metadata": {},
   "outputs": [
    {
     "data": {
      "text/html": [
       "<div>\n",
       "<style scoped>\n",
       "    .dataframe tbody tr th:only-of-type {\n",
       "        vertical-align: middle;\n",
       "    }\n",
       "\n",
       "    .dataframe tbody tr th {\n",
       "        vertical-align: top;\n",
       "    }\n",
       "\n",
       "    .dataframe thead th {\n",
       "        text-align: right;\n",
       "    }\n",
       "</style>\n",
       "<table border=\"1\" class=\"dataframe\">\n",
       "  <thead>\n",
       "    <tr style=\"text-align: right;\">\n",
       "      <th>Депрессия</th>\n",
       "      <th>Да</th>\n",
       "      <th>Нет</th>\n",
       "    </tr>\n",
       "    <tr>\n",
       "      <th>Пол</th>\n",
       "      <th></th>\n",
       "      <th></th>\n",
       "    </tr>\n",
       "  </thead>\n",
       "  <tbody>\n",
       "    <tr>\n",
       "      <th>Женщины</th>\n",
       "      <td>40</td>\n",
       "      <td>143</td>\n",
       "    </tr>\n",
       "    <tr>\n",
       "      <th>Мужчины</th>\n",
       "      <td>10</td>\n",
       "      <td>101</td>\n",
       "    </tr>\n",
       "  </tbody>\n",
       "</table>\n",
       "</div>"
      ],
      "text/plain": [
       "Депрессия  Да  Нет\n",
       "Пол               \n",
       "Женщины    40  143\n",
       "Мужчины    10  101"
      ]
     },
     "execution_count": 33,
     "metadata": {},
     "output_type": "execute_result"
    }
   ],
   "source": [
    "data = {\"Да\": [40, 10], \"Нет\": [143, 101]}\n",
    "groupped = pd.DataFrame(data, index = [\"Женщины\", \"Мужчины\"])\n",
    "groupped.index.name = \"Пол\"\n",
    "groupped.columns.name = \"Депрессия\"\n",
    "\n",
    "groupped"
   ]
  },
  {
   "cell_type": "code",
   "execution_count": 36,
   "metadata": {},
   "outputs": [
    {
     "name": "stdout",
     "output_type": "stream",
     "text": [
      "Коэффициент ассоциации:  0.47714808043875684\n",
      "Коэффициент контингенции:  0.1657958126346275\n",
      "Связь слабая между двумя признаками\n"
     ]
    }
   ],
   "source": [
    "contingency2x2_coefficients(groupped) "
   ]
  },
  {
   "cell_type": "markdown",
   "metadata": {},
   "source": [
    "### 2) Критерий Хи-квадрат и другие статистики для таблиц сопряжённости"
   ]
  },
  {
   "cell_type": "code",
   "execution_count": 31,
   "metadata": {},
   "outputs": [],
   "source": [
    "def plot_chi2_test(data, yets_correction = True, return_statistics = False, only_coefficients = False, fisher_test = True):\n",
    "    '''\n",
    "    Вычисляет Хи-квадрат статистику для проверки гипотезы о взаимосвязи двух номинальных переменных, и на основе этой статистики вычисляет:\n",
    "       1. Фи коэффициент (только для таблица 2x2) (Принимает значения от 0 до 1, где 0 - отсутствие связи, 1 - сильная связь)\n",
    "       2. Коэффициент сопряжённости Пирсона \n",
    "       2. Коэффициент сопряжённости Чупрова\n",
    "       3. Коэффициент сопряжённости Крамера (Совпадает с Фи коэффициентом, если таблица имеет размер 2x2) (Принимает значения от 0 до 1, где 0 - отсутствие связи, 1 - сильная связь)\n",
    "       \n",
    "       Также может вычислять статистику точного теста Фишера для таблиц 2x2 (Рекомендуется, если частот в любой из ячеек меньше 5)\n",
    "       \n",
    "    Параметры\n",
    "    ----------\n",
    "    data: array_like\n",
    "        Принимает на вход массив типа Numpy или Pandas\n",
    "             \n",
    "    yets_correction: bool\n",
    "        Испольовать ли поправку Йетса (Рекомендуется, если частот в любой из ячеек больше 5, но меньше 10)\n",
    "       \n",
    "    return_statistics: bool\n",
    "        Возвращать ли коэффициент Хи-квадрат, p уровень значимости, число степеней свободы и таблицу ожидаемых частот (chi2, p, dof, ex)\n",
    "       \n",
    "    only_coefficients: bool\n",
    "        Выводит только коэффициенты связи, без отрисовки графика\n",
    "       \n",
    "    fisher_test: bool\n",
    "        Применять ли тест Фишера для данной таблицы (работает только если таблица имеет размер  2x2)\n",
    "    '''\n",
    "    \n",
    "    if isinstance(groupped, pd.core.frame.DataFrame):\n",
    "        data = data.to_numpy()\n",
    "    \n",
    "    chi2, p, dof, ex = stats.chi2_contingency(data, correction = yets_correction)\n",
    "    margins_sum = stats.contingency.margins(data)\n",
    "    summed = margins_sum[0].sum()\n",
    "    \n",
    "    if not only_coefficients:\n",
    "        chi2_critical = stats.chi2.ppf(0.95, df = (data.shape[0] - 1) * (data.shape[1] - 1))\n",
    "        \n",
    "        chi2_arange = np.arange(0, chi2_critical + 2, 0.01)\n",
    "        chi2_vals = stats.chi2.pdf(chi2_arange, df = (data.shape[0] - 1) * (data.shape[1] - 1))\n",
    "        \n",
    "        plt.plot(chi2_arange, chi2_vals, label = \"Chisquare distribution\", color = \"k\")\n",
    "        plt.axvline(chi2, color = \"b\", label = \"Chisquare-statistical\")\n",
    "        plt.axvline(chi2_critical, color = \"r\", label = \"Chisquare-critical\", linestyle = \"dashed\")\n",
    "        plt.ylim(0, chi2_vals[1:].max())\n",
    "        \n",
    "        plt.fill_between(np.arange(chi2, chi2_critical + 2, 0.01), stats.chi2.pdf(np.arange(chi2, chi2_critical + 2, 0.01), df = (data.shape[0] - 1) * (data.shape[1] - 1)), color = \"dodgerblue\")\n",
    "        \n",
    "        if p <= 0.05:\n",
    "            print(\"Скорее всего, признаки взаимосвязаны. P-value: {}\".format(p))\n",
    "        else:\n",
    "            print(\"Скорее всего, признаки не взаимосвязаны. P-value: {}\".format(p))\n",
    "            \n",
    "        if ((data.shape[0] == 2) and (data.shape[1] == 2)) and fisher_test:\n",
    "            oddsratio, p_fisher = stats.fisher_exact(data)\n",
    "            \n",
    "            print(\"P-value точного теста Фишера: \", p_fisher)\n",
    "            \n",
    "        print(\"Хи-квадрат статистика: \", chi2)\n",
    "        print(\"Хи-квадрат критический: \", chi2_critical)\n",
    "        print(\"-\"*10)\n",
    "    \n",
    "    Pirson_coefficient = (chi2  / (chi2 + summed)) ** (0.5)\n",
    "    Chuprov_coefficient = (chi2 / (summed * ((data.shape[0] - 1) * (data.shape[1] - 1)) ** (0.5)))\n",
    "    \n",
    "    if (data.shape[0] == 2) and (data.shape[1] == 2):\n",
    "        phi_coefficient = (chi2 / summed) ** (0.5)\n",
    "        print(\"Соотношение шансов: \", (data[0, 0] * data[1, 1]) / (data[0, 1] * data[1, 0]))\n",
    "        print(\"Фи коэффициент: \", phi_coefficient)\n",
    "    else:\n",
    "        Cramer_coefficient = ((chi2 / summed) / (np.min([data.shape[0] - 1, data.shape[1] - 1]))) ** (0.5)\n",
    "        print(\"Коэффициент сопряжённости Крамера: \", Cramer_coefficient)\n",
    "    \n",
    "\n",
    "    \n",
    "    print(\"Коэффициент сопряжённости Пирсона: \", Pirson_coefficient)\n",
    "    print(\"Коэффициент сопряжённости Чупрова: \", Chuprov_coefficient)"
   ]
  },
  {
   "cell_type": "code",
   "execution_count": 38,
   "metadata": {},
   "outputs": [
    {
     "name": "stdout",
     "output_type": "stream",
     "text": [
      "Скорее всего, признаки взаимосвязаны. P-value: 0.00730317939152859\n",
      "P-value точного теста Фишера:  0.004018099389189503\n",
      "Хи-квадрат статистика:  7.196846750001813\n",
      "Хи-квадрат критический:  3.841458820694124\n",
      "----------\n",
      "Соотношение шансов:  2.825174825174825\n",
      "Фи коэффициент:  0.15645788755520593\n",
      "Коэффициент сопряжённости Пирсона:  0.15457737111105882\n",
      "Коэффициент сопряжённости Чупрова:  0.02447907057823746\n"
     ]
    },
    {
     "data": {
      "image/png": "[encoded data removed]",
      "text/plain": [
       "<Figure size 720x720 with 1 Axes>"
      ]
     },
     "metadata": {},
     "output_type": "display_data"
    }
   ],
   "source": [
    "plot_chi2_test(groupped, yets_correction=True)"
   ]
  },
  {
   "cell_type": "code",
   "execution_count": null,
   "metadata": {},
   "outputs": [],
   "source": []
  }
 ],
 "metadata": {
  "kernelspec": {
   "display_name": "Python 3",
   "language": "python",
   "name": "python3"
  },
  "language_info": {
   "codemirror_mode": {
    "name": "ipython",
    "version": 3
   },
   "file_extension": ".py",
   "mimetype": "text/x-python",
   "name": "python",
   "nbconvert_exporter": "python",
   "pygments_lexer": "ipython3",
   "version": "3.8.5"
  }
 },
 "nbformat": 4,
 "nbformat_minor": 4
}
