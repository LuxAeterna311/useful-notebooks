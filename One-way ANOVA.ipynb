{
 "cells": [
  {
   "cell_type": "code",
   "execution_count": 1,
   "metadata": {},
   "outputs": [],
   "source": [
    "import pandas as pd\n",
    "import numpy as np\n",
    "from scipy import stats\n",
    "import matplotlib.pyplot as plt\n",
    "import seaborn as sns\n",
    "\n",
    "%matplotlib inline\n",
    "plt.rcParams[\"figure.figsize\"] = (10, 10)\n",
    "plt.style.use(\"ggplot\")"
   ]
  },
  {
   "cell_type": "markdown",
   "metadata": {},
   "source": [
    "### 1) API One-way ANOVA"
   ]
  },
  {
   "cell_type": "code",
   "execution_count": 2,
   "metadata": {},
   "outputs": [],
   "source": [
    "def f_oneway_dict(data, alpha = 0.05, print_info = True):\n",
    "    columns = data.keys()\n",
    "    groups_means = [] # Средние всех групп\n",
    "    groups_vars = [] # Дисперсии всех групп\n",
    "    general_mean = 0 # Общее среднее\n",
    "    N = 0; # Общее число наблюдений\n",
    "    SST = 0 # общее число квадратов отклонений\n",
    "    SSW = 0 # Факторная сумма квадратов отклонений \n",
    "    SSB = 0 # Сумма квадратов отклонений ошибки\n",
    "    \n",
    "    # Вычисляем среднее и дисперсии для каждой группы\n",
    "    for column in columns:\n",
    "        groups_means.append(data[column].mean())\n",
    "        groups_vars.append(data[column].var())\n",
    "    \n",
    "    # Вычисляем общее число наблюдений\n",
    "    for column in columns:\n",
    "        N += len(data[column])\n",
    "    \n",
    "    \n",
    "    # Вычисляем общее среднее\n",
    "    for column in columns:\n",
    "        len_column = len(data[column])\n",
    "        \n",
    "        for i in range(len_column):\n",
    "            general_mean += data[column][i]\n",
    "        \n",
    "    general_mean = general_mean / N\n",
    "    \n",
    "    # Вычисляем общее число квадратов отклонений\n",
    "    for column in columns:\n",
    "        len_column = len(data[column])\n",
    "        \n",
    "        for i in range(len_column):\n",
    "            SST += ((data[column][i] - general_mean) ** 2)\n",
    "            \n",
    "    # Вычисляем факторную сумму квадратов отклонений \n",
    "    for i, column in enumerate(columns):\n",
    "        len_column = len(data[column])\n",
    "        SSB += (len_column * ((groups_means[i] - general_mean) ** 2))\n",
    "    \n",
    "    # Вычисляем сумма квадратов отклонений ошибки\n",
    "    SSW = SST - SSB\n",
    "    \n",
    "    df1 = len(columns) - 1\n",
    "    df2 = N - len(columns)\n",
    "    \n",
    "    MSA  = SSB / df1\n",
    "    MSE = SSW / df2\n",
    "    \n",
    "\n",
    "    f_statistics = MSA / MSE\n",
    "    f_critical = stats.f.ppf(q = 1 - alpha, dfn = df1, dfd = df2)\n",
    "    p_value = stats.f.sf(f_statistics, df1, df2)\n",
    "    \n",
    "    if print_info:\n",
    "        print(\"-\"*50)\n",
    "        print(\"Общая информация: \") \n",
    "        for i, column in enumerate(columns):\n",
    "            print(\"[{0}]. Среднее: {1}, дисперсия: {2}, стандартное отклонение: {3}\".format(column, groups_means[i], \n",
    "                                                                                         np.round(groups_vars[i], 4),                                                                                  np.round((groups_vars[i]) ** (0.5), 4)))\n",
    "        print(\"1. Сумма квадратов отклонений межгрупповая (SSB): \", SSB)\n",
    "        print(\"2. Сумма квадратов отклонений внутригрупповая (SSW): \", SSW)\n",
    "        print(\"3. Общая сумма квадратов отклонений (SST): \", SST)\n",
    "        print(\"4. Межгрупповая дисперсия (MSA): \", MSA)\n",
    "        print(\"5. Внутригрупповая дисперсия (MSE): \", MSE)\n",
    "        print(\"6. Среднее всех наблюдений: \", general_mean)\n",
    "        print(\"7. Число степеней свободы объяснённой дисперсии: \", df1)\n",
    "        print(\"8. Число степеней свободы необъяснённой дисперсии: \", df2)\n",
    "        print(\"9. Общее число степеней свободы: \", df1 + df2)\n",
    "        print(\"Статистика: \")\n",
    "        print(\"1. F-статистика: \", f_statistics)\n",
    "        print(\"2. F-критическое: \", f_critical)\n",
    "        print(\"3. p-value: \", p_value)\n",
    "        print(\"-\"*50)\n",
    "    \n",
    "    return f_statistics, p_value"
   ]
  },
  {
   "cell_type": "markdown",
   "metadata": {},
   "source": [
    "### 2) График One-way ANOVA"
   ]
  },
  {
   "cell_type": "code",
   "execution_count": 3,
   "metadata": {},
   "outputs": [],
   "source": [
    "def plot_f_oneway(f_statistical, m, k, alpha = 0.05):\n",
    "    '''\n",
    "    Рисует график F-распределения Фишера \n",
    "    \n",
    "    Параметры\n",
    "    ----------\n",
    "    f_statistical: float or int\n",
    "        Вычисленная F-статистика\n",
    "        \n",
    "    m: int\n",
    "        Число групп / Количество колонок в таблице\n",
    "        \n",
    "    k: int\n",
    "        Число наблюдений / Количество строчек в таблице\n",
    "    \n",
    "    alpha: float or int\n",
    "        Предполагаемый уровень значимости\n",
    "    '''\n",
    "    \n",
    "    f_critical = stats.f.ppf(q = 1 - alpha, dfn = m - 1, dfd = k - m)\n",
    "    \n",
    "    f_arange = np.arange(0, f_critical + 2, 0.01)\n",
    "    f_vals = stats.f.pdf(f_arange, dfn = m - 1, dfd = k - m)\n",
    "    \n",
    "    plt.plot(f_arange, f_vals, color = 'k', label = \"F-distribution\")\n",
    "    plt.ylim(0, f_vals.max())\n",
    "    \n",
    "    plt.axvline(f_critical, color = 'r', label = \"f_critical\", linestyle = \"dashed\")\n",
    "    plt.axvline(f_statistical, color = 'b', label = \"f_statistical\")\n",
    "    \n",
    "    plt.fill_between(np.arange(f_statistical, f_critical + 2, 0.01), stats.f.pdf(np.arange(f_statistical, f_critical + 2, 0.01), dfn = m - 1, dfd = k - m), color = \"dodgerblue\")\n",
    "    \n",
    "    \n",
    "    if f_statistical >= f_critical:\n",
    "        print(\"Нулевая гипотеза отвергается! Мат. ожидания не равны\")\n",
    "    else:\n",
    "        print(\"Нулевая гипотеза принимается! Мат. ожидания примерно равны!\")\n",
    "    \n",
    "    print(\"f_statistical: \", f_statistical)\n",
    "    print(\"f_critical: \", f_critical)\n",
    "    \n",
    "    plt.legend()"
   ]
  },
  {
   "cell_type": "code",
   "execution_count": 4,
   "metadata": {},
   "outputs": [
    {
     "name": "stdout",
     "output_type": "stream",
     "text": [
      "--------------------------------------------------\n",
      "Общая информация: \n",
      "[2015]. Среднее: 7.4125, дисперсия: 0.0367, стандартное отклонение: 0.1916\n",
      "[2016]. Среднее: 7.9325, дисперсия: 0.1571, стандартное отклонение: 0.3963\n",
      "[2017]. Среднее: 7.29, дисперсия: 0.048, стандартное отклонение: 0.2191\n",
      "[2018]. Среднее: 7.4625, дисперсия: 0.0414, стандартное отклонение: 0.2035\n",
      "[2019]. Среднее: 8.2825, дисперсия: 0.1706, стандартное отклонение: 0.413\n",
      "[2020]. Среднее: 7.88, дисперсия: 0.0563, стандартное отклонение: 0.2373\n",
      "1. Сумма квадратов отклонений межгрупповая (SSB):  2.929300000000003\n",
      "2. Сумма квадратов отклонений внутригрупповая (SSW):  1.5302999999999978\n",
      "3. Общая сумма квадратов отклонений (SST):  4.459600000000001\n",
      "4. Межгрупповая дисперсия (MSA):  0.5858600000000006\n",
      "5. Внутригрупповая дисперсия (MSE):  0.08501666666666655\n",
      "6. Среднее всех наблюдений:  7.710000000000001\n",
      "7. Число степеней свободы объяснённой дисперсии:  5\n",
      "8. Число степеней свободы необъяснённой дисперсии:  18\n",
      "9. Общее число степеней свободы:  23\n",
      "Статистика: \n",
      "1. F-статистика:  6.891119388355241\n",
      "2. F-критическое:  2.7728531529978295\n",
      "3. p-value:  0.0009357341258704996\n",
      "--------------------------------------------------\n",
      "Нулевая гипотеза отвергается! Мат. ожидания не равны\n",
      "f_statistical:  6.891119388355241\n",
      "f_critical:  2.7728531529978295\n"
     ]
    },
    {
     "data": {
      "image/png": "[encoded data removed]",
      "text/plain": [
       "<Figure size 720x720 with 1 Axes>"
      ]
     },
     "metadata": {},
     "output_type": "display_data"
    }
   ],
   "source": [
    "# Пример использования\n",
    "df = {\"2015\": pd.Series([7.21, 7.55, 7.29, 7.6]), \n",
    "      \"2016\": pd.Series([7.89, 8.27, 7.39, 8.18]),\n",
    "      \"2017\": pd.Series([7.25, 7.01, 7.37, 7.53]),\n",
    "      \"2018\": pd.Series([7.75, 7.41, 7.27, 7.42]),\n",
    "      \"2019\": pd.Series([7.7, 8.28, 8.55, 8.6]),\n",
    "      \"2020\": pd.Series([7.56, 8.05, 8.07, 7.84])}\n",
    "\n",
    "f_statistical, p_value = f_oneway_dict(df)\n",
    "plot_f_oneway(f_statistical, 6, 24)"
   ]
  },
  {
   "cell_type": "markdown",
   "metadata": {},
   "source": [
    "### 3) H-критерий Крускала-Уоллиса"
   ]
  },
  {
   "cell_type": "code",
   "execution_count": 5,
   "metadata": {},
   "outputs": [
    {
     "name": "stdout",
     "output_type": "stream",
     "text": [
      "Медианы не равны! P-value: 0.010448137507967725\n"
     ]
    }
   ],
   "source": [
    "statistics, p_value = stats.kruskal(df[\"2015\"], df[\"2016\"], df[\"2017\"], df[\"2018\"], df[\"2019\"], df[\"2020\"])\n",
    "\n",
    "if p_value < 0.05:\n",
    "    print(\"Медианы не равны! P-value: {}\".format(p_value))\n",
    "else:\n",
    "    print(\"Медианы примерно равны. P-value: {}\".format(p_value))"
   ]
  },
  {
   "cell_type": "code",
   "execution_count": null,
   "metadata": {},
   "outputs": [],
   "source": []
  }
 ],
 "metadata": {
  "kernelspec": {
   "display_name": "Python 3",
   "language": "python",
   "name": "python3"
  },
  "language_info": {
   "codemirror_mode": {
    "name": "ipython",
    "version": 3
   },
   "file_extension": ".py",
   "mimetype": "text/x-python",
   "name": "python",
   "nbconvert_exporter": "python",
   "pygments_lexer": "ipython3",
   "version": "3.8.5"
  }
 },
 "nbformat": 4,
 "nbformat_minor": 4
}
